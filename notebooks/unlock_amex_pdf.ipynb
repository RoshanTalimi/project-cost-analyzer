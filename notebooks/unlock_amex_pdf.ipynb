{
 "cells": [
  {
   "cell_type": "code",
   "execution_count": null,
   "metadata": {},
   "outputs": [],
   "source": [
    "from PyPDF2 import PdfReader, PdfWriter\n",
    "\n",
    "def remove_restrictions(input_path, output_path):\n",
    "    reader = PdfReader(input_path)\n",
    "    writer = PdfWriter()\n",
    "\n",
    "    for page in reader.pages:\n",
    "        writer.add_page(page)\n",
    "\n",
    "    writer.write(output_path)"
   ]
  },
  {
   "cell_type": "markdown",
   "metadata": {},
   "source": [
    "### Process selective files"
   ]
  },
  {
   "cell_type": "code",
   "execution_count": null,
   "metadata": {},
   "outputs": [],
   "source": [
    "file_names = [\n",
    "    \"241003-241127-roshan\",\n",
    "    \"241028-241127-stephanie\",\n",
    "    \"241128-241227-roshan\",\n",
    "    \"241128-241227-stephanie\"\n",
    "]"
   ]
  },
  {
   "cell_type": "code",
   "execution_count": null,
   "metadata": {},
   "outputs": [],
   "source": [
    "for file_name in file_names:\n",
    "    remove_restrictions(\n",
    "        f\"/Users/roshan/Library/CloudStorage/GoogleDrive-roshan.talimi@gmail.com/My Drive/GT/Ekonomi/Amex/2024/Amex original/{file_name}.pdf\",\n",
    "        f\"/Users/roshan/Library/CloudStorage/GoogleDrive-roshan.talimi@gmail.com/My Drive/GT/Ekonomi/Amex/2024/Amex unlocked/{file_name}.pdf\"\n",
    "    )"
   ]
  },
  {
   "cell_type": "markdown",
   "metadata": {},
   "source": [
    "### Process one file"
   ]
  },
  {
   "cell_type": "code",
   "execution_count": null,
   "metadata": {},
   "outputs": [],
   "source": [
    "file_name = \"240928-241027-stephanie\"\n",
    "\n",
    "remove_restrictions(f\"/Users/roshan/Library/CloudStorage/GoogleDrive-roshan.talimi@gmail.com/My Drive/GT/Ekonomi/Amex/2024/Amex original/{file_name}.pdf\",\n",
    "                    f\"/Users/roshan/Library/CloudStorage/GoogleDrive-roshan.talimi@gmail.com/My Drive/GT/Ekonomi/Amex unlocked/{file_name}.pdf\"\n",
    "                    )"
   ]
  },
  {
   "cell_type": "markdown",
   "metadata": {},
   "source": [
    "### Process all files in one folder"
   ]
  },
  {
   "cell_type": "code",
   "execution_count": null,
   "metadata": {},
   "outputs": [],
   "source": [
    "import os\n",
    "from PyPDF2 import PdfReader, PdfWriter\n",
    "\n",
    "def remove_restrictions(input_path, output_path):\n",
    "    reader = PdfReader(input_path)\n",
    "    writer = PdfWriter()\n",
    "\n",
    "    for page in reader.pages:\n",
    "        writer.add_page(page)\n",
    "\n",
    "    writer.write(output_path)\n",
    "\n",
    "def process_folder(input_folder, output_folder):\n",
    "    # Create the output folder if it doesn't exist\n",
    "    if not os.path.exists(output_folder):\n",
    "        os.makedirs(output_folder)\n",
    "\n",
    "    # Process each PDF file in the input folder\n",
    "    for filename in os.listdir(input_folder):\n",
    "        if filename.lower().endswith('.pdf'):\n",
    "            input_path = os.path.join(input_folder, filename)\n",
    "            output_path = os.path.join(output_folder, f\"{filename}\")\n",
    "\n",
    "            try:\n",
    "                remove_restrictions(input_path, output_path)\n",
    "                print(f\"Processed: {filename}\")\n",
    "            except Exception as e:\n",
    "                print(f\"Error processing {filename}: {str(e)}\")"
   ]
  },
  {
   "cell_type": "code",
   "execution_count": null,
   "metadata": {},
   "outputs": [],
   "source": [
    "# Usage\n",
    "input_folder = \"/Users/roshan/Library/CloudStorage/GoogleDrive-roshan.talimi@gmail.com/My Drive/GT/Ekonomi/Amex original\"\n",
    "output_folder = \"/Users/roshan/Downloads/amex\"\n",
    "process_folder(input_folder, output_folder)"
   ]
  },
  {
   "cell_type": "code",
   "execution_count": null,
   "metadata": {},
   "outputs": [],
   "source": [
    "# Usage\n",
    "input_folder = \"../amex/data/original\"\n",
    "output_folder = \"../amex/data/unlocked\"\n",
    "process_folder(input_folder, output_folder)"
   ]
  },
  {
   "cell_type": "code",
   "execution_count": null,
   "metadata": {},
   "outputs": [],
   "source": []
  }
 ],
 "metadata": {
  "kernelspec": {
   "display_name": "venv",
   "language": "python",
   "name": "python3"
  },
  "language_info": {
   "codemirror_mode": {
    "name": "ipython",
    "version": 3
   },
   "file_extension": ".py",
   "mimetype": "text/x-python",
   "name": "python",
   "nbconvert_exporter": "python",
   "pygments_lexer": "ipython3",
   "version": "3.12.4"
  }
 },
 "nbformat": 4,
 "nbformat_minor": 2
}
