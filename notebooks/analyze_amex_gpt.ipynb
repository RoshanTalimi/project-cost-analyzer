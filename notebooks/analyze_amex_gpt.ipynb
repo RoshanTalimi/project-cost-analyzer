{
 "cells": [
  {
   "cell_type": "code",
   "execution_count": null,
   "metadata": {},
   "outputs": [],
   "source": [
    "import PyPDF2\n",
    "import pandas as pd"
   ]
  },
  {
   "cell_type": "code",
   "execution_count": null,
   "metadata": {},
   "outputs": [],
   "source": [
    "pdf_file_path = \"../amex/data/2025-02-27.pdf\""
   ]
  },
  {
   "cell_type": "code",
   "execution_count": null,
   "metadata": {},
   "outputs": [],
   "source": [
    "# Function to extract text from PDF\n",
    "def extract_text_from_pdf(pdf_path):\n",
    "    with open(pdf_path, 'rb') as file:\n",
    "        reader = PyPDF2.PdfReader(file)\n",
    "        text = ''\n",
    "        for page_num in range(len(reader.pages)):\n",
    "            text += reader.pages[page_num].extract_text()\n",
    "    return text\n",
    "\n",
    "# Function to parse the extracted text\n",
    "def parse_pdf_text(text):\n",
    "    # This is just a placeholder and may need adjustment based on how transactions are structured in the PDF.\n",
    "    # We'll assume each transaction is on a new line and has the format: \"Date | Description | Amount\"\n",
    "    lines = text.split('\\n')\n",
    "\n",
    "    transactions = []\n",
    "    for line in lines:\n",
    "        parts = line.split()\n",
    "        if len(parts) >= 3:  # Adjust depending on how your PDF is structured\n",
    "            date = parts[0]\n",
    "            description = ' '.join(parts[1:-1])\n",
    "            amount = parts[-1]\n",
    "            transactions.append([date, description, amount])\n",
    "\n",
    "    # Convert to pandas DataFrame\n",
    "    df = pd.DataFrame(transactions, columns=['Date', 'Description', 'Amount'])\n",
    "    return df"
   ]
  },
  {
   "cell_type": "code",
   "execution_count": null,
   "metadata": {},
   "outputs": [],
   "source": [
    "# Extract text from PDF\n",
    "pdf_text = extract_text_from_pdf(pdf_file_path)\n",
    "\n",
    "# Parse and display the transactions\n",
    "transactions_df = parse_pdf_text(pdf_text)\n",
    "transactions_df"
   ]
  },
  {
   "cell_type": "code",
   "execution_count": null,
   "metadata": {},
   "outputs": [],
   "source": []
  },
  {
   "cell_type": "code",
   "execution_count": null,
   "metadata": {},
   "outputs": [],
   "source": []
  },
  {
   "cell_type": "code",
   "execution_count": null,
   "metadata": {},
   "outputs": [],
   "source": []
  },
  {
   "cell_type": "code",
   "execution_count": null,
   "metadata": {},
   "outputs": [],
   "source": [
    "import pdfplumber\n",
    "import pandas as pd\n",
    "import re\n",
    "\n",
    "def extract_amex_transactions(pdf_path):\n",
    "    # Read PDF\n",
    "    with pdfplumber.open(pdf_path) as pdf:\n",
    "        text_pages = [page.extract_text() for page in pdf.pages]\n",
    "    \n",
    "    # Extract invoice period\n",
    "    invoice_period_match = re.search(r\"Fakturans period:\\s*([\\d.]+ till [\\d.]+)\", text_pages[0])\n",
    "    invoice_period = invoice_period_match.group(1) if invoice_period_match else \"Unknown\"\n",
    "    \n",
    "    # Extract transaction sections\n",
    "    ros_transactions_match = re.search(r\"Nya köp förRoshan Talimi(.*?)Summa nya köp förRoshan Talimi\", text_pages[1], re.DOTALL)\n",
    "    steph_transactions_match = re.search(r\"Nya köp förStephanie Maria GardnerExtrakort som slutar på31017(.*?)Summa nya köp förStephanie Maria Gardner\", text_pages[1], re.DOTALL)\n",
    "    \n",
    "    ros_transactions_text = ros_transactions_match.group(1) if ros_transactions_match else \"\"\n",
    "    steph_transactions_text = steph_transactions_match.group(1) if steph_transactions_match else \"\"\n",
    "    \n",
    "    # Function to extract transactions into DataFrame\n",
    "    def extract_transactions(text):\n",
    "        transactions = []\n",
    "        pattern = r\"(\\d{2}\\.\\d{2}\\.\\d{2})\\s+(\\d{2}\\.\\d{2}\\.\\d{2})\\s+(.+?)\\s+(-?\\d{1,3}(?:\\.\\d{3})*(?:,\\d{2})?)\"\n",
    "        \n",
    "        for match in re.finditer(pattern, text):\n",
    "            transactions.append({\n",
    "                \"Transaction Date\": match.group(1),\n",
    "                \"Process Date\": match.group(2),\n",
    "                \"Description\": match.group(3).strip(),\n",
    "                \"Amount (SEK)\": float(match.group(4).replace('.', '').replace(',', '.'))\n",
    "            })\n",
    "        \n",
    "        return pd.DataFrame(transactions)\n",
    "    \n",
    "    # Convert extracted transactions into DataFrames\n",
    "    df_ros = extract_transactions(ros_transactions_text)\n",
    "    df_steph = extract_transactions(steph_transactions_text)\n",
    "    \n",
    "    return invoice_period, df_ros, df_steph\n"
   ]
  },
  {
   "cell_type": "code",
   "execution_count": null,
   "metadata": {},
   "outputs": [],
   "source": [
    "# Example usage\n",
    "pdf_path = \"../amex/data/original/2025-02-27.pdf\"  # Path to your AmEx PDF invoice\n",
    "output_dir = \"../amex/data/output\"  # Directory to save the extracted data\n",
    "invoice_period, df_ros, df_steph = extract_amex_transactions(pdf_path)\n",
    "\n",
    "print(f\"Invoice Period: {invoice_period}\")\n",
    "print(\"\\nRoshan Talimi Transactions:\")\n",
    "print(df_ros.head())\n",
    "print(\"\\nStephanie Maria Gardner Transactions:\")\n",
    "print(df_steph.head())"
   ]
  },
  {
   "cell_type": "code",
   "execution_count": null,
   "metadata": {},
   "outputs": [],
   "source": [
    "df_ros"
   ]
  },
  {
   "cell_type": "code",
   "execution_count": null,
   "metadata": {},
   "outputs": [],
   "source": []
  }
 ],
 "metadata": {
  "kernelspec": {
   "display_name": "venv",
   "language": "python",
   "name": "python3"
  },
  "language_info": {
   "codemirror_mode": {
    "name": "ipython",
    "version": 3
   },
   "file_extension": ".py",
   "mimetype": "text/x-python",
   "name": "python",
   "nbconvert_exporter": "python",
   "pygments_lexer": "ipython3",
   "version": "3.12.4"
  }
 },
 "nbformat": 4,
 "nbformat_minor": 2
}
